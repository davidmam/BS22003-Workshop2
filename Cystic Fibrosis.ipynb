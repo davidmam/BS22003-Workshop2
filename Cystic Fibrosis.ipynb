{
 "metadata": {
  "name": "",
  "signature": "sha256:da92878c04507634b1b8e94bfee0461a9e2b780823514d1ead5ce91e3c3844f3"
 },
 "nbformat": 3,
 "nbformat_minor": 0,
 "worksheets": [
  {
   "cells": [
    {
     "cell_type": "markdown",
     "metadata": {},
     "source": [
      "In this workshop we will use some data analysis techniques to identify putative disease causing mutations in the cystic fibrosis gene. Cystic fibrosis is a disease caused primarily by mutation of a transporter protein."
     ]
    },
    {
     "cell_type": "code",
     "collapsed": false,
     "input": [
      "fh=open('cftr.fasta')\n",
      "header=fh.readline()\n",
      "sequence=''\n",
      "for line in fh.readlines():\n",
      "    sequence=sequence+line.strip()\n",
      "fh.close()"
     ],
     "language": "python",
     "metadata": {},
     "outputs": []
    },
    {
     "cell_type": "code",
     "collapsed": false,
     "input": [
      "print len(sequence)"
     ],
     "language": "python",
     "metadata": {},
     "outputs": []
    },
    {
     "cell_type": "code",
     "collapsed": false,
     "input": [
      "start=sequence.find('ATGCAGAGGTCGCCTCTGGAAAA')\n",
      "print(\"start is %s\"%start)\n",
      "e1end='TTTTTTTCAG'\n",
      "end=sequence.find(e1end,start)\n",
      "end=end+len(e1end)\n",
      "print(\"end is %s\"%end)\n"
     ],
     "language": "python",
     "metadata": {},
     "outputs": [
      {
       "output_type": "stream",
       "stream": "stdout",
       "text": [
        "start is 14311\n",
        "end is 14364\n"
       ]
      }
     ],
     "prompt_number": 35
    },
    {
     "cell_type": "code",
     "collapsed": false,
     "input": [
      "exon1 = sequence[start:end]\n",
      "print(exon1)"
     ],
     "language": "python",
     "metadata": {},
     "outputs": [
      {
       "output_type": "stream",
       "stream": "stdout",
       "text": [
        "ATGCAGAGGTCGCCTCTGGAAAAGGCCAGCGTTGTCTCCAAACTTTTTTTCAG\n"
       ]
      }
     ],
     "prompt_number": 36
    },
    {
     "cell_type": "code",
     "collapsed": false,
     "input": [
      "print (end-start )%3"
     ],
     "language": "python",
     "metadata": {},
     "outputs": [
      {
       "output_type": "stream",
       "stream": "stdout",
       "text": [
        "2\n"
       ]
      }
     ],
     "prompt_number": 37
    },
    {
     "cell_type": "markdown",
     "metadata": {},
     "source": [
      "Using the data at [Ensembl](http://grch37.ensembl.org/Homo_sapiens/Transcript/Exons?db=core;g=ENSG00000001626;r=7:117105838-117356025;t=ENST00000003084) we can make a list of the intron and exon sizes.\n",
      "We can then use these to get the next sections of the gene. The list is a list of (intron size, exon size)."
     ]
    },
    {
     "cell_type": "code",
     "collapsed": false,
     "input": [
      "\n",
      "remainingexons = ( (24105, 111),\n",
      "            (4670,109),\n",
      "            (21756,216),\n",
      "            (3161,90),\n",
      "            (882,164),\n",
      "            (1136,126),\n",
      "            (3426,247),\n",
      "            (1669,93),\n",
      "            (6532,183),\n",
      "            (10640,192),\n",
      "            (28083,95),\n",
      "            (2519,87),\n",
      "            (1494,724),\n",
      "            (2272,129),\n",
      "            (7767,38),\n",
      "            (668,251),\n",
      "            (2891,80),\n",
      "            (3765,151),\n",
      "            (911,228),\n",
      "            (2804,101),\n",
      "            (12808,249),\n",
      "            (14667,156),\n",
      "            (10248,90),\n",
      "            (11756,173),\n",
      "            (598,106),\n",
      "            (1343,201))\n",
      "            #(1343,1574))\n",
      "\n",
      "assert(len(remainingexons)==26)            \n",
      "                "
     ],
     "language": "python",
     "metadata": {},
     "outputs": [],
     "prompt_number": 48
    },
    {
     "cell_type": "code",
     "collapsed": false,
     "input": [
      "nextstart=start\n",
      "nextend=end\n",
      "count=1\n",
      "for exon in remainingexons:\n",
      "    count += 1\n",
      "    nextstart=nextend+exon[0]\n",
      "    nextend=nextstart+exon[1]\n",
      "    print \"exon %s: %s ... %s\"%(count, sequence[nextstart:nextstart+10],sequence[nextend-10:nextend])\n",
      "    "
     ],
     "language": "python",
     "metadata": {},
     "outputs": [
      {
       "output_type": "stream",
       "stream": "stdout",
       "text": [
        "exon 2: CTGGACCAGA ... AATTGGAAAG\n",
        "exon 3: AGAATGGGAT ... ATATTTAGGG\n",
        "exon 4: GAAGTCACCA ... TTATAAGAAG\n",
        "exon 5: ACTTTAAAGC ... ATTTGATGAA\n",
        "exon 6: GGACTTGCAT ... TGAAGTACAG\n",
        "exon 7: AGATCAGAGA ... ACTTAAGACA\n",
        "exon 8: AACAGAACTG ... CAAAATACAG\n",
        "exon 9: GATTTCTTAC ... CTGGGAGGAG\n",
        "exon 10: GGATTTGGGG ... AGCAGGCAAG\n",
        "exon 11: ACTTCACTTC ... ACTAGAAGAG\n",
        "exon 12: GACATCTCCA ... CTTTAGCAAG\n",
        "exon 13: AGCAGTATAC ... TATTTGAAAG\n",
        "exon 14: CTGTGTCTGT ... AGACTTAAAG\n",
        "exon 15: GAGTGCTTTT ... TCTGGCAGAG\n",
        "exon 16: GTGGCTGCTT ... TCCTTGGAAA\n",
        "exon 17: CACTCCTCTT ... TTGAAAGCAG\n",
        "exon 18: GTGGGATTCT ... CTTCATCCAG\n",
        "exon 19: TTGTTATTAA ... GAATCTGAAG\n",
        "exon 20: GCAGGAGTCC ... TTAACAACAG\n",
        "exon 21: GAGAAGGAGA ... GGATAGCTTG\n",
        "exon 22: ATGCGATCTG ... TGGCCAGAGG\n",
        "exon 23: GTGGGCCTCT ... GATACCACAG\n",
        "exon 24: AAAGTATTTA ... TGCAGATGAG\n",
        "exon 25: GTTGGGCTCA ... TGGATCCAGT\n",
        "exon 26: AACATACCAA ... ACAATTTTTG\n",
        "exon 27: GTCATAGAAG ... AAGGCTTTAG\n"
       ]
      }
     ],
     "prompt_number": 49
    },
    {
     "cell_type": "code",
     "collapsed": false,
     "input": [
      "exon27start = sequence.find('GTCATAGAAG', nextstart)\n",
      "exon27end = sequence.find('AGAGCAGCA', nextstart)\n",
      "exon27size = exon27end-exon27start # <fill in>\n",
      "print \"last exon is %s bp\"%exon27size"
     ],
     "language": "python",
     "metadata": {},
     "outputs": [
      {
       "output_type": "stream",
       "stream": "stdout",
       "text": [
        "last exon is 201 bp\n"
       ]
      }
     ],
     "prompt_number": 47
    },
    {
     "cell_type": "code",
     "collapsed": false,
     "input": [
      "mrna=exon1\n",
      "nextstart=start\n",
      "nextend=end\n",
      "for exon in remainingexons:\n",
      "    nextstart=nextend+exon[0]\n",
      "    nextend=nextstart+exon[1]\n",
      "    mrna=mrna+sequence[nextstart:nextend]\n",
      "    \n",
      "print len(mrna)"
     ],
     "language": "python",
     "metadata": {},
     "outputs": [
      {
       "output_type": "stream",
       "stream": "stdout",
       "text": [
        "4443\n"
       ]
      }
     ],
     "prompt_number": 52
    },
    {
     "cell_type": "code",
     "collapsed": false,
     "input": [
      "geneticCode = {\n",
      "\"AAA\":\"K\",\n",
      "\"AAC\":\"N\",\n",
      "\"AAG\":\"K\",\n",
      "\"AAT\":\"N\",\n",
      "\"ACA\":\"T\",\n",
      "\"ACC\":\"T\",\n",
      "\"ACG\":\"T\",\n",
      "\"ACT\":\"T\",\n",
      "\"AGA\":\"R\",\n",
      "\"AGC\":\"S\",\n",
      "\"AGG\":\"R\",\n",
      "\"AGT\":\"S\",\n",
      "\"ATA\":\"I\",\n",
      "\"ATC\":\"I\",\n",
      "\"ATG\":\"M\",\n",
      "\"ATT\":\"I\",\n",
      "\"CAA\":\"Q\",\n",
      "\"CAC\":\"H\",\n",
      "\"CAG\":\"Q\",\n",
      "\"CAT\":\"H\",\n",
      "\"CCA\":\"P\",\n",
      "\"CCC\":\"P\",\n",
      "\"CCG\":\"P\",\n",
      "\"CCT\":\"P\",\n",
      "\"CGA\":\"R\",\n",
      "\"CGC\":\"R\",\n",
      "\"CGG\":\"R\",\n",
      "\"CGT\":\"R\",\n",
      "\"CTA\":\"L\",\n",
      "\"CTC\":\"L\",\n",
      "\"CTG\":\"L\",\n",
      "\"CTT\":\"L\",\n",
      "\"GAA\":\"E\",\n",
      "\"GAC\":\"D\",\n",
      "\"GAG\":\"E\",\n",
      "\"GAT\":\"D\",\n",
      "\"GCA\":\"A\",\n",
      "\"GCC\":\"A\",\n",
      "\"GCG\":\"A\",\n",
      "\"GCT\":\"A\",\n",
      "\"GGA\":\"G\",\n",
      "\"GGC\":\"G\",\n",
      "\"GGG\":\"G\",\n",
      "\"GGT\":\"G\",\n",
      "\"GTA\":\"V\",\n",
      "\"GTC\":\"V\",\n",
      "\"GTG\":\"V\",\n",
      "\"GTT\":\"V\",\n",
      "\"TAA\":\"*\",\n",
      "\"TAC\":\"Y\",\n",
      "\"TAG\":\"*\",\n",
      "\"TAT\":\"Y\",\n",
      "\"TCA\":\"S\",\n",
      "\"TCC\":\"S\",\n",
      "\"TCG\":\"S\",\n",
      "\"TCT\":\"S\",\n",
      "\"TGA\":\"*\",\n",
      "\"TGC\":\"C\",\n",
      "\"TGG\":\"W\",\n",
      "\"TGT\":\"C\",\n",
      "\"TTA\":\"L\",\n",
      "\"TTC\":\"F\",\n",
      "\"TTG\":\"L\",\n",
      "\"TTT\":\"F\" }\n",
      "\n",
      "codons={}\n",
      "for c in geneticCode.keys():\n",
      "    try:\n",
      "        codons[geneticCode[c]].append(c)\n",
      "    except:\n",
      "        codons[geneticCode[c]]=[c]\n",
      "print codons"
     ],
     "language": "python",
     "metadata": {},
     "outputs": [
      {
       "output_type": "stream",
       "stream": "stdout",
       "text": [
        "{'A': ['GCA', 'GCC', 'GCG', 'GCT'], 'C': ['TGT', 'TGC'], 'E': ['GAG', 'GAA'], 'D': ['GAT', 'GAC'], 'G': ['GGT', 'GGG', 'GGA', 'GGC'], 'F': ['TTT', 'TTC'], 'I': ['ATC', 'ATA', 'ATT'], 'H': ['CAT', 'CAC'], 'K': ['AAG', 'AAA'], '*': ['TAG', 'TAA', 'TGA'], 'M': ['ATG'], 'L': ['CTC', 'CTG', 'CTA', 'CTT', 'TTA', 'TTG'], 'N': ['AAC', 'AAT'], 'Q': ['CAA', 'CAG'], 'P': ['CCT', 'CCG', 'CCC', 'CCA'], 'S': ['AGC', 'AGT', 'TCG', 'TCA', 'TCC', 'TCT'], 'R': ['AGG', 'AGA', 'CGA', 'CGC', 'CGG', 'CGT'], 'T': ['ACC', 'ACA', 'ACT', 'ACG'], 'W': ['TGG'], 'V': ['GTA', 'GTC', 'GTG', 'GTT'], 'Y': ['TAT', 'TAC']}\n"
       ]
      }
     ],
     "prompt_number": 77
    },
    {
     "cell_type": "code",
     "collapsed": false,
     "input": [
      "asingle ={\"A\":\"Ala\", \"C\":\"Cys\", \"D\":\"Asp\", \"E\":\"Glu\", \n",
      "          \"F\":\"Phe\", \"G\":\"Gly\", \"H\":\"His\", \"I\":\"Ile\", \n",
      "          \"K\":\"Lys\", \"L\":\"Leu\", \"M\":\"Met\", \"N\":\"Asn\",\n",
      "          \"P\":\"Pro\", \"Q\":\"Gln\", \"R\":\"Arg\", \"S\":\"Ser\", \n",
      "          \"T\":\"Thr\", \"V\":\"Val\", \"W\":\"Trp\", \"Y\":\"Tyr\",\"*\":\"STOP\"}\n",
      "atriple ={}\n",
      "\n",
      "for x in asingle.keys():\n",
      "    atriple[amino[x]]=x\n",
      "\n",
      "\n",
      "    "
     ],
     "language": "python",
     "metadata": {},
     "outputs": [],
     "prompt_number": 79
    },
    {
     "cell_type": "code",
     "collapsed": false,
     "input": [
      "cfmutationlist=((31,\"L\",'CTC'),(117,\"P\",\"CCC\"),(178,\"R\",\"AGA\"),(225,\"R\",\"CGT\"),(455,\"E\",\"GAG\"),\n",
      "                (549,\"N\",\"AAT\"), (1066,\"H\",\"CAT\")\n",
      "              )\n",
      "nonsynlist = ((44,\"V\",\"GTT\"),\n",
      "(75,\"Q\",\"CAA\"),\n",
      "(138,\"P\",\"CCA\"),\n",
      "(170,\"H\",\"CAT\"),\n",
      "(182,\"G\",\"GGT\"),\n",
      "(322,\"M\",\"ATG\"),\n",
      "(351,\"S\",\"AGT\"),\n",
      "(351,\"S\",\"TCT\"),\n",
      "(353,\"H\",\"CAT\"),\n",
      "(353,\"H\",\"CAC\"),\n",
      "(467,\"F\",\"TTT\"),\n",
      "(470,\"M\",\"ATG\"),\n",
      "(506,\"M\",\"ATG\"),\n",
      "(506,\"V\",\"GTC\"),\n",
      "(507,\"V\",\"GTC\"),\n",
      "(508,\"C\",\"TGT\"),\n",
      "(532,\"E\",\"GAG\"),\n",
      "(562,\"I\",\"ATA\"),\n",
      "(576,\"A\",\"GCA\"),\n",
      "(605,\"F\",\"TTT\"),\n",
      "(654,\"G\",\"GGT\"),\n",
      "(668,\"C\",\"TGT\"),\n",
      "(693,\"L\",\"CTT\"),\n",
      "(693,\"L\",\"TTA\"),\n",
      "(693,\"L\",\"TTG\"),\n",
      "(903,\"H\",\"CAT\"),\n",
      "(909,\"I\",\"ATC\"),\n",
      "(967,\"S\",\"TCG\"),\n",
      "(1067,\"V\",\"GTC\"),\n",
      "(1162,\"L\",\"CTA\"),\n",
      "(1220,\"I\",\"ATA\"),\n",
      "(1453,\"W\",\"TGG\") )\n",
      "\n",
      "for m in cfmutationlist:\n",
      "    print \"AA %s%s%s Codon %s %s -> %s\"%( geneticCode[mrna[3*(m[0]-1):3*m[0]]],m[0],m[1],3*(m[0]-1)+1, mrna[3*(m[0]-1):3*m[0]], codons[m[1]])\n",
      "\n",
      "for m in nonsynlist:\n",
      "    aa=geneticCode[mrna[3*(m[0]-1):3*m[0]]]\n",
      "    codon=mrna[3*(m[0]-1):3*m[0]]\n",
      "    mutlist=codons[m[1]]\n",
      "    for mc in mutlist:\n",
      "        count=0\n",
      "        for b in range(3):\n",
      "            if mc[b]!=codon[b]:\n",
      "                count +=1\n",
      "        if count==1:\n",
      "            print '(%s,\"%s\",\"%s\"),'%(m[0], m[1],mc)"
     ],
     "language": "python",
     "metadata": {},
     "outputs": [
      {
       "output_type": "stream",
       "stream": "stdout",
       "text": [
        "AA R31L Codon 91 CGC -> ['CTC', 'CTG', 'CTA', 'CTT', 'TTA', 'TTG']\n",
        "AA R117P Codon 349 CGC -> ['CCT', 'CCG', 'CCC', 'CCA']\n",
        "AA G178R Codon 532 GGA -> ['AGG', 'AGA', 'CGA', 'CGC', 'CGG', 'CGT']\n",
        "AA C225R Codon 673 TGT -> ['AGG', 'AGA', 'CGA', 'CGC', 'CGG', 'CGT']\n",
        "AA A455E Codon 1363 GCG -> ['GAG', 'GAA']\n",
        "AA G551D Codon 1651 GGT -> ['GAT', 'GAC']\n",
        "AA S549N Codon 1645 AGT -> ['AAC', 'AAT']\n",
        "AA R1066H Codon 3196 CGT -> ['CAT', 'CAC']\n",
        "(44,\"V\",\"GTT\"),\n",
        "(75,\"Q\",\"CAA\"),\n",
        "(138,\"P\",\"CCA\"),\n",
        "(170,\"H\",\"CAT\"),\n",
        "(182,\"G\",\"GGT\"),\n",
        "(322,\"M\",\"ATG\"),\n",
        "(351,\"S\",\"AGT\"),\n",
        "(351,\"S\",\"TCT\"),\n",
        "(351,\"S\",\"AGT\"),\n",
        "(351,\"S\",\"TCT\"),\n",
        "(353,\"H\",\"CAT\"),\n",
        "(353,\"H\",\"CAC\"),\n",
        "(353,\"H\",\"CAT\"),\n",
        "(353,\"H\",\"CAC\"),\n",
        "(467,\"F\",\"TTT\"),\n",
        "(470,\"M\",\"ATG\"),\n",
        "(506,\"M\",\"ATG\"),\n",
        "(506,\"V\",\"GTC\"),\n",
        "(507,\"V\",\"GTC\"),\n",
        "(508,\"C\",\"TGT\"),\n",
        "(532,\"E\",\"GAG\"),\n",
        "(562,\"I\",\"ATA\"),\n",
        "(576,\"A\",\"GCA\"),\n",
        "(605,\"F\",\"TTT\"),\n",
        "(654,\"G\",\"GGT\"),\n",
        "(668,\"C\",\"TGT\"),\n",
        "(693,\"L\",\"CTT\"),\n",
        "(693,\"L\",\"TTA\"),\n",
        "(693,\"L\",\"TTG\"),\n",
        "(693,\"L\",\"CTT\"),\n",
        "(693,\"L\",\"TTA\"),\n",
        "(693,\"L\",\"TTG\"),\n",
        "(693,\"L\",\"CTT\"),\n",
        "(693,\"L\",\"TTA\"),\n",
        "(693,\"L\",\"TTG\"),\n",
        "(903,\"H\",\"CAT\"),\n",
        "(909,\"I\",\"ATC\"),\n",
        "(967,\"S\",\"TCG\"),\n",
        "(1067,\"V\",\"GTC\"),\n",
        "(1162,\"L\",\"CTA\"),\n",
        "(1220,\"I\",\"ATA\"),\n",
        "(1453,\"W\",\"TGG\"),\n"
       ]
      }
     ],
     "prompt_number": 88
    },
    {
     "cell_type": "code",
     "collapsed": false,
     "input": [
      "#now build a list of mutated patients (draw from a limited pool of mutations) and mutated controls. \n",
      "import random \n",
      "def createPatients(number):\n",
      "    #sample of 4 diseases\n",
      "    muts=random.sample(cfmutationlist,3)\n",
      "    muts.append((551,\"D\",\"GAT\"))\n",
      "    nsmuts=random.sample(nonsynlist, 15)\n",
      "    patients=[]\n",
      "    normals=[]\n",
      "    for p in range(number):\n",
      "        patmrna=mrna\n",
      "        dm=random.sample(muts, 1)\n",
      "        nsm=random.sample(nsmuts, 6)\n",
      "        syn=random.sample(range(len(mrna)/3),10)\n",
      "        for m in syn:\n",
      "            cs=3*(m-1)\n",
      "            ce=3*m\n",
      "            aa=geneticCode[mrna[cs:ce]]\n",
      "            patmrna=patmrna[:cs]+random.sample(codons[aa],1)[0]+patmrna[ce:]\n",
      "        for m in nsm:\n",
      "            cs=3*(m[0]-1)\n",
      "            ce=3*m[0]\n",
      "            aa=geneticCode[mrna[cs:ce]]\n",
      "            patmrna=patmrna[:cs]+m[2]+patmrna[ce:]\n",
      "        for m in dm:\n",
      "            cs=3*(m[0]-1)\n",
      "            ce=3*m[0]\n",
      "            aa=geneticCode[mrna[cs:ce]]\n",
      "            patmrna=patmrna[:cs]+m[2]+patmrna[ce:]\n",
      "        patients.append((\"patient\", p,patmrna))\n",
      "    for p in range(number):\n",
      "        patmrna=mrna\n",
      "        dm=random.sample(muts, 1)\n",
      "        nsm=random.sample(nsmuts, 6)\n",
      "        syn=random.sample(range(len(mrna)/3),10)\n",
      "        for m in syn:\n",
      "            cs=3*(m-1)\n",
      "            ce=3*m\n",
      "            aa=geneticCode[mrna[cs:ce]]\n",
      "            patmrna=patmrna[:cs]+random.sample(codons[aa],1)[0]+patmrna[ce:]\n",
      "        for m in nsm:\n",
      "            cs=3*(m[0]-1)\n",
      "            ce=3*m[0]\n",
      "            aa=geneticCode[mrna[cs:ce]]\n",
      "            patmrna=patmrna[:cs]+m[2]+patmrna[ce:]        \n",
      "        patients.append(('normal', p+number,patmrna))\n",
      "    return patients\n"
     ],
     "language": "python",
     "metadata": {},
     "outputs": [],
     "prompt_number": 100
    },
    {
     "cell_type": "code",
     "collapsed": false,
     "input": [
      "patients=createPatients(20)\n",
      "for p in patients:\n",
      "    print \"%s\\t%s\\t%s ... %s\"%(p[0],p[1], p[2][:10], p[2][-10:])"
     ],
     "language": "python",
     "metadata": {},
     "outputs": [
      {
       "output_type": "stream",
       "stream": "stdout",
       "text": [
        "patient\t0\tATGCAGAGGT ... AAGGCTTTAG\n",
        "patient\t1\tATGCAGAGGT ... AAGGCTTTAG\n",
        "patient\t2\tATGCAGAGGT ... AAGGCTTTAG\n",
        "patient\t3\tATGCAGAGGT ... AAGGCTTTAG\n",
        "patient\t4\tATGCAGAGGT ... AAGGCTTTAG\n",
        "patient\t5\tATGCAGAGGT ... AAGGCTTTAG\n",
        "patient\t6\tATGCAGAGGT ... AAGGCTTTAG\n",
        "patient\t7\tATGCAGAGGT ... AAGGCTTTAG\n",
        "patient\t8\tATGCAGAGGT ... AAGGCTTTAG\n",
        "patient\t9\tATGCAGAGGT ... AAGGCTTTAG\n",
        "patient\t10\tATGCAGAGGT ... AAGGCTTTAG\n",
        "patient\t11\tATGCAGAGGT ... AAGGCTTTAG\n",
        "patient\t12\tATGCAGAGGT ... AAGGCTTTAG\n",
        "patient\t13\tATGCAGAGGT ... AAGGCTTTAG\n",
        "patient\t14\tATGCAGAGGT ... AAGGCTTTAG\n",
        "patient\t15\tATGCAGAGGT ... AAGGCTTTAG\n",
        "patient\t16\tATGCAGAGGT ... AAGGCTTTAG\n",
        "patient\t17\tATGCAGAGGT ... AAGGCTTTAG\n",
        "patient\t18\tATGCAGAGGT ... AAGGCTTTAG\n",
        "patient\t19\tATGCAGAGGT ... AAGGCTTTAG\n",
        "normal\t20\tATGCAGAGGT ... AAGGCTTTAG\n",
        "normal\t21\tATGCAGAGGT ... AAGGCTTTAG\n",
        "normal\t22\tATGCAAAGGT ... AAGGCTTTAG\n",
        "normal\t23\tATGCAGAGGT ... AAGGCTTTAG\n",
        "normal\t24\tATGCAGAGGT ... AAGGCTTTAG\n",
        "normal\t25\tATGCAGAGGT ... AAGGCTTTAG\n",
        "normal\t26\tATGCAGAGGT ... AAGGCTTTAG\n",
        "normal\t27\tATGCAGAGGT ... AAGGCTTTAG\n",
        "normal\t28\tATGCAGAGGT ... AAGGCTTTAG\n",
        "normal\t29\tATGCAGAGGT ... AAGGCTTTAG\n",
        "normal\t30\tATGCAGAGGT ... AAGGCTTTAG\n",
        "normal\t31\tATGCAGAGGT ... AAGGCTTTAG\n",
        "normal\t32\tATGCAGAGGT ... AAGGCTTTAG\n",
        "normal\t33\tATGCAGAGGT ... AAGGCTTTAG\n",
        "normal\t34\tATGCAGAGGT ... AAGGCTTTAG\n",
        "normal\t35\tATGCAGAGGT ... AAGGCTTTAG\n",
        "normal\t36\tATGCAGAGGT ... AAGGCTTTAG\n",
        "normal\t37\tATGCAGAGGT ... AAGGCTTTAG\n",
        "normal\t38\tATGCAGAGGT ... AAGGCTTTAG\n",
        "normal\t39\tATGCAGAGGT ... AAGGCTTTAG\n"
       ]
      }
     ],
     "prompt_number": 99
    },
    {
     "cell_type": "code",
     "collapsed": false,
     "input": [
      "fh=open(\"CFTR.fasta\",\"w\")\n",
      "start=0\n",
      "fh.write(\">cftr\\n\")\n",
      "while start < len(mrna)-60:\n",
      "    fh.write(mrna[start:start+60]+\"\\n\")\n",
      "fh.write(mrna[start:]+\"\\n\")\n",
      "fh.close()"
     ],
     "language": "python",
     "metadata": {},
     "outputs": []
    },
    {
     "cell_type": "code",
     "collapsed": false,
     "input": [],
     "language": "python",
     "metadata": {},
     "outputs": []
    }
   ],
   "metadata": {}
  }
 ]
}