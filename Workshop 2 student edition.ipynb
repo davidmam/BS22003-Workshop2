{
 "cells": [
  {
   "cell_type": "markdown",
   "metadata": {},
   "source": [
    "# BS22003 Bioinformatics tutorial\n",
    "\n",
    "Welcome to the second of three BS22003 bioinformatics tutorials. in this session we will explore how a computer can handle biological data and help us perform analysis.\n",
    "In this tutorial we will identify appropriate restriction sites to clone the affected exon from teh CFTR genomic sequence.\n",
    "\n",
    "We have to learn how to:\n",
    "* represent sequences in a computer\n",
    "* find the text corresponding to a restriction site\n",
    "* Count the number of matches in the gene\n",
    "* make decisions, e.g. deciding whether they are in the correct place for cloning\n",
    "* store this information in a structured way\n",
    "* work through lists, eg Go through a database of restriction enzymes to test them all\n",
    "* use this information to solve our specific problem.\n",
    "\n",
    "\n",
    "## Using this notebook\n",
    "This notebook is made up of **cells** that can be edited and run. This cell contains [Markdown](https://daringfireball.net/projects/markdown/), a text formatting language. To edit this cell double click on it and change what you see. Then press **CTRL + ENTER** to make the changes.\n",
    "\n",
    "Other cell types are code cells. In this notebook they run a language called [Python](http://www.python.org) which is the same language used for many scientific packages. You can see the code cells because they have a [ ] next to them and have a grey background. After you have run the cell (with **CTRL + ENTER** or by using the run button above) a number appears in that box and any output appears below the cell. Try this on the cell below. Click on it so it becomes active then press *CTRL* and *ENTER* together."
   ]
  },
  {
   "cell_type": "markdown",
   "metadata": {},
   "source": [
    "## 1. Representing sequences in a computer and finding restriction sites.\n",
    "First we will learn how we can represent a sequence in a computer. We will find specific restriction \n",
    "sites in that sequence and count the number of restriction sites we find. We'll also learn how to chop DNA up into fragments, and how to apply an analysis to all fragments in a list.\n",
    "\n",
    "### 1.1 Sequences and sites\n",
    "The cell below creates a variable *sequence* and initialises it to hold a piece of text (or string of characters) corresponding to the bases in a short DNA sequence. Press **CTRL + ENTER ** to run this cell."
   ]
  },
  {
   "cell_type": "code",
   "execution_count": null,
   "metadata": {
    "collapsed": true
   },
   "outputs": [],
   "source": [
    "sequence = 'ACTGATCTCGGATCTCGAGGATCGATTCGATGCTAGTCCGGACGATTCGATCGCGATTAGGAGCTTGATTAGCTCTCTAGGATCTCTAGGATTCTAGTAGGCTG'"
   ]
  },
  {
   "cell_type": "markdown",
   "metadata": {},
   "source": [
    "It appears that not much has happened. We know the cell has run because the number on the left has changed. What we have done is to create a _variable_, a named value. The value of the variable is the sequence text. We know this is text because it is surrounded by quotes ' '. If we just type the name of the variable, Python will print out the value stored in that name."
   ]
  },
  {
   "cell_type": "code",
   "execution_count": null,
   "metadata": {
    "collapsed": false
   },
   "outputs": [],
   "source": [
    "sequence"
   ]
  },
  {
   "cell_type": "markdown",
   "metadata": {},
   "source": [
    "If we type a name that we haven't yet defined, Python will give an error."
   ]
  },
  {
   "cell_type": "code",
   "execution_count": null,
   "metadata": {
    "collapsed": false
   },
   "outputs": [],
   "source": [
    "sequnce # note the misspelling"
   ]
  },
  {
   "cell_type": "markdown",
   "metadata": {},
   "source": [
    "The `#` indicates a comment. Python ignores all the text after the `#` which is a comment for us, the human reader.\n",
    "\n",
    "Python has many useful functions. For example we can find the length of the text we have stored in `sequence` with the function `len()` (All functions have () at the end, even if they do not take any values)"
   ]
  },
  {
   "cell_type": "code",
   "execution_count": null,
   "metadata": {
    "collapsed": false
   },
   "outputs": [],
   "source": [
    "len(sequence)"
   ]
  },
  {
   "cell_type": "markdown",
   "metadata": {},
   "source": [
    "And with a string, a piece of text, we can run all sorts of methods to find another piece of text within it, count the number of times it appears and so on. Suppose we want to look for the sequence motif `AGGA` in our sequence?"
   ]
  },
  {
   "cell_type": "code",
   "execution_count": null,
   "metadata": {
    "collapsed": false
   },
   "outputs": [],
   "source": [
    "sequence.find('AGGA')\n",
    "# finds the first occurrence of 'AGGA' in the text in sequence"
   ]
  },
  {
   "cell_type": "markdown",
   "metadata": {},
   "source": [
    "The number that `.find(text)` returns is the position of the text we are looking for (`AGGA`) in sequence. The numbering starts at 0, so the first letter is at position 0. This may appear strange but it is how python does it.  Is there another occurrence of `AGGA`? We can use the `.count(text)` method to see.\n",
    "\n",
    "    Note that we can run *methods* on variables. These methods will vary depending on the type of variable. They appear as variable.method() (and the parentheses are important)."
   ]
  },
  {
   "cell_type": "code",
   "execution_count": null,
   "metadata": {
    "collapsed": false
   },
   "outputs": [],
   "source": [
    "sequence.count('AGGA')"
   ]
  },
  {
   "cell_type": "markdown",
   "metadata": {},
   "source": [
    "How about the last occurence? We can use the method `.rfind()` to find the position of the last occurrence."
   ]
  },
  {
   "cell_type": "code",
   "execution_count": null,
   "metadata": {
    "collapsed": false
   },
   "outputs": [],
   "source": [
    "sequence.rfind('AGGA')"
   ]
  },
  {
   "cell_type": "markdown",
   "metadata": {},
   "source": [
    "> #### Thinking point\n",
    "> What happens if we use lower case instead of upper case?\n",
    "> Try finding the text `agga` in the sequence"
   ]
  },
  {
   "cell_type": "code",
   "execution_count": null,
   "metadata": {
    "collapsed": false
   },
   "outputs": [],
   "source": [
    "sequence.count('agga')"
   ]
  },
  {
   "cell_type": "markdown",
   "metadata": {},
   "source": [
    "You can find a lot more methods that can be applied to text at the [official Python documentation pages](https://docs.python.org/3.5/library/stdtypes.html#string-methods)"
   ]
  },
  {
   "cell_type": "markdown",
   "metadata": {},
   "source": [
    "### Challenge 1.1a \n",
    "In the cell below create a new variable with the name `enzyme` that contains the cut site for a restriction enzyme. The pattern for the cut site is `CTTAAG`. Then run the following cell. This will read a much longer sequence (the mRNA for the Cystic Fibrosis gene) into the variable `cftr_mrna` from the file [cftr_mrna.txt](cftr_mrna.txt) and check it for the restriction site."
   ]
  },
  {
   "cell_type": "code",
   "execution_count": null,
   "metadata": {
    "collapsed": true
   },
   "outputs": [],
   "source": [
    "enzyme=  # fill this in, remembering to put text between quotes"
   ]
  },
  {
   "cell_type": "code",
   "execution_count": null,
   "metadata": {
    "collapsed": false
   },
   "outputs": [],
   "source": [
    "cftr_mrna = open('cftr_mrna.txt').read()\n",
    "cftr_mrna.find(enzyme)"
   ]
  },
  {
   "cell_type": "code",
   "execution_count": null,
   "metadata": {
    "collapsed": false
   },
   "outputs": [],
   "source": [
    "import bs22003 # this reads in routines that will test your code for you. Do not edit this cell, just run it.\n",
    "bs22003.test1(globals())"
   ]
  },
  {
   "cell_type": "markdown",
   "metadata": {},
   "source": [
    "### Challenge 1.1b\n",
    "What about the enzyme EcoRI (cut site `GAATTC`)? Fix and run the cell below."
   ]
  },
  {
   "cell_type": "code",
   "execution_count": null,
   "metadata": {
    "collapsed": false
   },
   "outputs": [],
   "source": [
    "ecori =   # fill this in properly\n",
    "cftr_mrna.count(ecori) #instead of finding the site, this counts the number of time it appears."
   ]
  },
  {
   "cell_type": "markdown",
   "metadata": {},
   "source": [
    "If we try to find the EcoRI sites in our long sequence we only find the first one if we call `longsequence.find(ecori)`. Change the cell below to store the position of the first cut site. You should use the variable name `cut1` and set it to the value we get from running the command in the cell."
   ]
  },
  {
   "cell_type": "code",
   "execution_count": null,
   "metadata": {
    "collapsed": false
   },
   "outputs": [],
   "source": [
    "cut1 =  # we can use the result we get from a command as the value."
   ]
  },
  {
   "cell_type": "markdown",
   "metadata": {},
   "source": [
    "We can then print this out using the variable name.\n",
    "> #### Variable names\n",
    "> Which variable names can we have? Python has some simple rules.\n",
    "> 1. They cannot contain spaces\n",
    "> 2. They can only start with letters or the underscore\n",
    "> 3. They cannot be a Python keyword"
   ]
  },
  {
   "cell_type": "code",
   "execution_count": null,
   "metadata": {
    "collapsed": false
   },
   "outputs": [],
   "source": [
    "cut1"
   ]
  },
  {
   "cell_type": "markdown",
   "metadata": {},
   "source": [
    "With `.find(text)` we can add another option to tell Python where to start looking in our sequence. We have to add 1 to the position we find in `cut1` otherwise we just find the same position again (try this and you will see). Change the cell below to save the position of the second restriction site to the variable `cut2`"
   ]
  },
  {
   "cell_type": "code",
   "execution_count": null,
   "metadata": {
    "collapsed": false
   },
   "outputs": [],
   "source": [
    "cftr_mrna.find(ecori,cut1+1)"
   ]
  },
  {
   "cell_type": "code",
   "execution_count": null,
   "metadata": {
    "collapsed": false
   },
   "outputs": [],
   "source": [
    "#Check you have this correct by running this cell\n",
    "bs22003.test1a(globals())"
   ]
  },
  {
   "cell_type": "markdown",
   "metadata": {},
   "source": [
    "### Challenge 1.1c\n",
    "You can use simple arithmetic with raw values, such as *1*, variables such as *a* or *b*, or the value returned by functions such as *len(text)*. eg `a - b` to subtract the value in b from the value in a, or `a/2` to divide *a* by the literal value 2, or `b + len(text)` to add the length of *text* to the value in *b*.  \n",
    "The diagram below gives a guide to calculating the fragment lengths for the EcoR1 cuts of our sequence.  \n",
    "![fragments](fragments.png)\n",
    "\n",
    "Save the lengths of the fragments of `cftr_mrna` produced by the enzyme EcoRI in the variables `frag1-frag3` in the cell below. Then run the next cell to check your answer."
   ]
  },
  {
   "cell_type": "code",
   "execution_count": null,
   "metadata": {
    "collapsed": false
   },
   "outputs": [],
   "source": [
    "frag1 = \n",
    "frag2 = \n",
    "frag3 = "
   ]
  },
  {
   "cell_type": "markdown",
   "metadata": {},
   "source": [
    "We can use a loop to check our values. The square brackets `[ ]` tell python that this is a list. There is more on loops and lists later."
   ]
  },
  {
   "cell_type": "code",
   "execution_count": null,
   "metadata": {
    "collapsed": false
   },
   "outputs": [],
   "source": [
    "for f in [frag1, frag2, frag3]: \n",
    "    print(f)"
   ]
  },
  {
   "cell_type": "code",
   "execution_count": null,
   "metadata": {
    "collapsed": false
   },
   "outputs": [],
   "source": [
    "#Check your code by running this cell\n",
    "bs22003.test2(globals())"
   ]
  },
  {
   "cell_type": "markdown",
   "metadata": {},
   "source": [
    "## 1.2 Getting bits of a text string \n",
    "\n",
    "So far we have been looking at positions in a piece of text. We have found the location where our enzyme cut site is, but it would be good to get the complete fragment.\n",
    "\n",
    "We can access parts of a piece of text using code like `text[start:end]` where _text_ is the variable we want to get part of, _start_ is the first position we want to get, and _end_ is the position **_after_** the last letter we want. This is very much like R but Python counts differently - **the first position is 0, not 1.**\n",
    "As we know the position of our first cut site, and the length of our enzyme cut site, we should be able to retrieve it.\n",
    "\n",
    "![Finding parts of a string](day1/Slide1.PNG)"
   ]
  },
  {
   "cell_type": "code",
   "execution_count": null,
   "metadata": {
    "collapsed": false
   },
   "outputs": [],
   "source": [
    "cutsite = cftr_mrna[cut1 : cut1+len(ecori)]\n",
    "print(cutsite) # this should be the same as the EcoRI site we stored earlier\n"
   ]
  },
  {
   "cell_type": "markdown",
   "metadata": {},
   "source": [
    "We can easily get the sequence that is created by the cleavage. Let's also translate this to lower case. A little python trick is that if the part of a list we want to get (and text is a list of letters, or characters) includes the start then we don't need to include that number, or if it includes the end we don't need to include that number."
   ]
  },
  {
   "cell_type": "code",
   "execution_count": null,
   "metadata": {
    "collapsed": false
   },
   "outputs": [],
   "source": [
    "print(cftr_mrna[:cut1].lower()) \n",
    "# cftr_mrna[:cut1] gives a piece of text, so we can then run \n",
    "# .lower() on it which gives another piece of text, which is then printed."
   ]
  },
  {
   "cell_type": "markdown",
   "metadata": {},
   "source": [
    "What happens if we add bits of text together? If we use a `+` then Python will join two bits of text together. So we can splice out the middle fragment with:"
   ]
  },
  {
   "cell_type": "code",
   "execution_count": null,
   "metadata": {
    "collapsed": false
   },
   "outputs": [],
   "source": [
    "print(cftr_mrna[:cut1] + cftr_mrna[cut2:].lower())\n",
    "# I used lower so you can see where the join is between the two sequences.\n"
   ]
  },
  {
   "cell_type": "markdown",
   "metadata": {},
   "source": [
    "> ### Challenge 1.2a\n",
    "> Print out the full sequence, but in lower case with the restriction sites in upper case.\n",
    "> **Hint:** concatenate (add) each fragment together using the `+` operator with the enzyme recognition site in 'ecori' in between. Don't include the enzyme site when you add \n",
    "> the fragment in lower case. It should look like this when done (apart from the dotted bits where the sequence is not shown for clarity):\n",
    "> \n",
    "> ```... gccaggagaaagggGAATTCagagaaa ... aggctggtcttGAATTCctgacctca ... ```\n",
    ">\n",
    "> Do this by first assigning the formatted sequence to the variable `prettyseq`."
   ]
  },
  {
   "cell_type": "code",
   "execution_count": null,
   "metadata": {
    "collapsed": false
   },
   "outputs": [],
   "source": [
    "prettyseq = cftr_mrna[:cut1].lower()+ecori+\n",
    "print(prettyseq)"
   ]
  },
  {
   "cell_type": "code",
   "execution_count": null,
   "metadata": {
    "collapsed": false
   },
   "outputs": [],
   "source": [
    "bs22003.test4(globals())"
   ]
  },
  {
   "cell_type": "markdown",
   "metadata": {},
   "source": [
    "### 1.3 Trying several restriction sites\n",
    "\n",
    "Try the following restriction sites. \n",
    "\n",
    "| Enzyme | Recognition site | forward cut | reverse cut |\n",
    "|---|---|---|---|\n",
    "|BsaI|\tGGTCTC|\t7\t|11|\n",
    "|HindIII\t|AAGCTT\t|1|\t5|\n",
    "|MvnI\t|CGCG|\t2\t|2|\n",
    "|SmaI\t|CCCGGG\t|3|\t3|\n",
    "\n",
    "\n",
    "* Which pattern(s) isn't(aren't) found at all?\n",
    "* Which produces the largest fragment? \n",
    "* Which produces the smallest fragment?\n",
    "\n",
    "To answer these questions, create a variable to hold each text pattern. You can use `cftr_mrna.count(enzyme)` for each enzyme to find the one that doesn't count, and `cftr_mrna.find(enzyme, from)` to find the cut sites. Use the the cell below for your working and fill in the values you calculate into the variables in the following cell and run it. When you cna run it without error, try the test routine."
   ]
  },
  {
   "cell_type": "code",
   "execution_count": null,
   "metadata": {
    "collapsed": false
   },
   "outputs": [],
   "source": [
    "bsai = 'GGTCTC' # I've made a start.. keep the variable name lower case and the value upper case.\n",
    "hindiii =\n",
    "mvni =\n",
    "smai = \n",
    "\n",
    "print(cftr_mrna.count(bsai)) # one piece - not cut\n",
    "print(cftr_mrna.count(hindiii)) # four pieces\n",
    "print(cftr_mrna.count(mvni)) # two pieces\n",
    "print(cftr_mrna.count(smai)) # one piece - no cut\n"
   ]
  },
  {
   "cell_type": "code",
   "execution_count": null,
   "metadata": {
    "collapsed": true
   },
   "outputs": [],
   "source": [
    "noncutter =  # eg. noncutter=ecori - just one non-cutter is needed\n",
    "largest_frag =  # in base pairs\n",
    "largest_cutter = # name of the enzyme giving the largest fragment, e.g. 'EcoRI'\n",
    "smallest_frag =  # in base pairs\n",
    "smallest_cutter = # name of the enzyme giving the smallest fragment"
   ]
  },
  {
   "cell_type": "code",
   "execution_count": null,
   "metadata": {
    "collapsed": false
   },
   "outputs": [],
   "source": [
    "bs22003.test5(globals()) #run to check your answers. If it doesn't pass, go back until it does."
   ]
  },
  {
   "cell_type": "markdown",
   "metadata": {},
   "source": [
    "We can now read in the full genomic sequence and should be able to find our exon in there. Review the genomic sequence in the file cftr_genomic.gb (open it iwith *notepad++*) and identify the genomic coordinates for your exon of interest. In this case I am going to use exon 4 but you should replace this with your own exon of interest. "
   ]
  },
  {
   "cell_type": "code",
   "execution_count": null,
   "metadata": {
    "collapsed": true
   },
   "outputs": [],
   "source": [
    "exonstart = 50937               # first base of the exon\n",
    "exonend =  51152          # last base of the exon"
   ]
  },
  {
   "cell_type": "markdown",
   "metadata": {},
   "source": [
    "Now we can extract our exon of interest."
   ]
  },
  {
   "cell_type": "code",
   "execution_count": null,
   "metadata": {
    "collapsed": false
   },
   "outputs": [],
   "source": [
    "cftr_gene=''.join(open('cftr_gene.fa').readlines()[1:]).replace('\\n','') \n",
    "# this line reads in the genome sequence from a FASTA format file. \n",
    "# It is actually doing quite a lot of things but we end up with the DNA sequence as a single piece of text.\n",
    "# change the code below to chop out the exon. remember that python counts from 0 but genomes start at 1.\n",
    "exon=cftr_gene[] \n",
    "exon"
   ]
  },
  {
   "cell_type": "code",
   "execution_count": null,
   "metadata": {
    "collapsed": false
   },
   "outputs": [],
   "source": [
    "bs22003.test6a(globals())"
   ]
  },
  {
   "cell_type": "markdown",
   "metadata": {},
   "source": [
    "We can check to see whether EcoRI (or any of the other enzymes) cuts inside our exon, or indeed where it cuts before the exon, and after it.  If we use exon.count(enzymesite) we can get a count of how many cut sites there are inside our exon of choice."
   ]
  },
  {
   "cell_type": "code",
   "execution_count": null,
   "metadata": {
    "collapsed": false
   },
   "outputs": [],
   "source": [
    "exon.count(ecori)"
   ]
  },
  {
   "cell_type": "markdown",
   "metadata": {},
   "source": [
    "And by choosing part of our genomic sequence to test, we can see whether the enzyme cuts before our exon. We can use the method text.*rfind*(subtext) to find the last occurrence of subtext in text."
   ]
  },
  {
   "cell_type": "code",
   "execution_count": null,
   "metadata": {
    "collapsed": false
   },
   "outputs": [],
   "source": [
    "lastbefore=cftr_gene[:exonstart].rfind(ecori)\n",
    "lastbefore"
   ]
  },
  {
   "cell_type": "markdown",
   "metadata": {},
   "source": [
    "And the *.find()* method again to find the first cut site for this enzyme after the exon"
   ]
  },
  {
   "cell_type": "code",
   "execution_count": null,
   "metadata": {
    "collapsed": false
   },
   "outputs": [],
   "source": [
    "cftr_gene[exonend:].find(ecori)"
   ]
  },
  {
   "cell_type": "markdown",
   "metadata": {},
   "source": [
    "This gives the position in the sequence fragemnt we selected (ie the number of bases from the end of the exon). To get the position in the genome sequence we need to add on the starting coordinate of this sequence."
   ]
  },
  {
   "cell_type": "code",
   "execution_count": null,
   "metadata": {
    "collapsed": false
   },
   "outputs": [],
   "source": [
    "firstafter = cftr_gene[exonend:].find(ecori) + exonend\n",
    "firstafter"
   ]
  },
  {
   "cell_type": "markdown",
   "metadata": {},
   "source": [
    "### Challenge 1.3 \n",
    "Repeat this analysis for the four other enzymes (HindIII, SmaI, MvnI, BsaI) and see which cut closest to the exon, both before and after. Any enzyme that cuts inside the exon should be excluded."
   ]
  },
  {
   "cell_type": "code",
   "execution_count": null,
   "metadata": {
    "collapsed": true
   },
   "outputs": [],
   "source": [
    "# workspace"
   ]
  },
  {
   "cell_type": "markdown",
   "metadata": {},
   "source": [
    "## 2 Reading information from file\n",
    "So far we have written all our enzymes out by hand. The [REBASE](http://rebase.com) database contains many thousands of restriction enzymes. The file `enzymes.txt` contains a selection of many hundred of these. Testing all of these by hand would be time consuming, tedious and potentially error prone. We can read them in from a file and process our sequence to find the optimal enzymes for our purpose.\n",
    "\n",
    "To open a file we create a _filehandle_, a bookmark that lets us get to any point in the file. We can read from the file one line at a time or read all the lines at once as a list.\n"
   ]
  },
  {
   "cell_type": "code",
   "execution_count": null,
   "metadata": {
    "collapsed": true
   },
   "outputs": [],
   "source": [
    "fh = open('enzymes.txt')"
   ]
  },
  {
   "cell_type": "markdown",
   "metadata": {},
   "source": [
    "`fh` is our bookmark. Note that we put _enzymes.txt_ between quotes as it is the text name of the file. \n",
    "\n",
    "Run the next cell several times (with CTRL-ENTER) and see what it gives us."
   ]
  },
  {
   "cell_type": "code",
   "execution_count": null,
   "metadata": {
    "collapsed": false
   },
   "outputs": [],
   "source": [
    "fh.readline()"
   ]
  },
  {
   "cell_type": "markdown",
   "metadata": {},
   "source": [
    "The first line returned is\n",
    "```\n",
    "'AanI\\tTTATAA\\t3\\t3\\n'\n",
    "```\n",
    "This is the enzyme name, a TAB character (represented by `\\t`), the pattern at which the enzyme cuts, another TAB, the cut position (number of bases from the start) of the pattern on the forward strand and the cut position on the reverse strand. The text finishes off with a NEWLINE character `\\n`. \n",
    "\n",
    "![reading line by line](day1/filehandle.gif)\n",
    "\n",
    "> #### Special characters\n",
    "> The _special characters_ are ones that we can't easily type at the keyboard. These are relics of the old days of computing. \n",
    "> They are represented in text by a backslash `\\` followed by a letter or other symbol. \n",
    "> These are known as _escape codes_ as the normal meaning of the letter is 'escaped' by the `\\`. \n",
    ">\n",
    "> | code | character |\n",
    "> | --- | --- |\n",
    "> | \\t | Tab |\n",
    "> | \\n | Newline|\n",
    "> | \\r | carriage return |\n",
    "> | \\b | backspace |\n",
    "> | \\\\\\\\  | \\ itself|\n",
    "\n",
    "We can see the effect of these special characters if we print the value instead.\n"
   ]
  },
  {
   "cell_type": "code",
   "execution_count": null,
   "metadata": {
    "collapsed": false
   },
   "outputs": [],
   "source": [
    "print(fh.readline())"
   ]
  },
  {
   "cell_type": "markdown",
   "metadata": {},
   "source": [
    "We can use the *text.split(thing to split on)* method to break the text up into a list of individual pieces. "
   ]
  },
  {
   "cell_type": "markdown",
   "metadata": {},
   "source": [
    "Note that the filehandle `fh` moves on to the next line each time we call `fh.readline()`. To get to the start of the file again we need to run the open command again or run `fh.seek(0)` which will take us back to the top of the file.\n",
    "\n",
    "We can read the line from `fh.readline()` into a variable so that we can process it further. If we then split it to a list (splitting on the TAB character that separates each part of the line) we can get each of the parts we want from each entry.\n",
    "\n",
    "![reading and parsing each line](day1/readparse.gif)"
   ]
  },
  {
   "cell_type": "code",
   "execution_count": null,
   "metadata": {
    "collapsed": false
   },
   "outputs": [],
   "source": [
    "fh.seek(0)\n"
   ]
  },
  {
   "cell_type": "code",
   "execution_count": null,
   "metadata": {
    "collapsed": false
   },
   "outputs": [],
   "source": [
    "line =  fh.readline() # read in the next line from the file\n",
    "parts= line.split('\\t') # create a list of parts by splitting it on the tab character\n",
    "name=parts[0]    # create a variable 'name'  with the value of the first part. remember that we start counting at 0 in Python, not 1 \n",
    "pattern=parts[1] # create a variable with the value of the second part\n",
    "forwardcut=parts[2]\n",
    "reversecut=parts[3]\n",
    "cutsites = cftr_mrna.count(pattern) # remember what this does from before? We use the variable pattern as the text to find \n",
    "print('Enzyme '+name+' cuts at '+pattern+' which occurs '+str(cutsites)+' times in the mRNA sequence')"
   ]
  },
  {
   "cell_type": "markdown",
   "metadata": {},
   "source": [
    "Run the cell above repeatedly to see each line in turn.\n",
    "\n",
    "We have so far read each line one at a time. We can get a list of all the remaining lines with `fh.readlines()` (notice it is plural). This can be used as a list to go through every line in a file\n",
    "\n",
    "```\n",
    "for line in fh.readlines():\n",
    "    do stuff to the line\n",
    "    do more stuff to the line\n",
    "```\n",
    "> ### About loops\n",
    "> The `for item in list:` command tells Python to work through something that looks like a list one item at a time. \n",
    "> It doesn't matter how long a list is, python will work through it one item at a time, each time running the code on that item. The animation below shows how this happens. The loop variable (the grey circle) takes the value of each list element in turn and applies the commands in the loop on it. \n",
    ">\n",
    "> ![A loop](day1/loopanim.gif)\n",
    ">\n",
    "\n",
    "\n",
    "So let's go through each line in the file and find all the enzymes that cut our gene sequence only once."
   ]
  },
  {
   "cell_type": "code",
   "execution_count": null,
   "metadata": {
    "collapsed": false
   },
   "outputs": [],
   "source": [
    "fh.seek(0) # go back to the start of the file\n",
    "for line in fh.readlines(): # spot the difference between fh.readline() and fh.readlines()\n",
    "    parts=line.split('\\t')\n",
    "    name=parts[0]\n",
    "    pattern=parts[1]\n",
    "    if cftr_mrna.count(pattern) == 1: \n",
    "        print(name+' cuts once')\n"
   ]
  },
  {
   "cell_type": "markdown",
   "metadata": {},
   "source": [
    "### Challenge 2.1\n",
    "How many enzymes cut only once? How many do not cut at all?\n",
    "**Hint:** create an empty list, then add the enzymes that cut only once using the `list.append(item)` to add _item_ to _list_."
   ]
  },
  {
   "cell_type": "code",
   "execution_count": null,
   "metadata": {
    "collapsed": false
   },
   "outputs": [],
   "source": [
    "fh.seek(0) # to go back to the start of the file\n",
    "\n",
    "singlecutters=[] # this is our empty list.\n",
    "\n",
    "enzcount=0 # here is a counter to count the total number of enzymes we read in.\n",
    "\n",
    "for line in fh.readlines():\n",
    "    enzcount += 1 # add one to enzcount\n",
    "    parts=line.split('\\t')\n",
    "    name=parts[0]\n",
    "    pattern=parts[1]\n",
    "    if cftr_mrna.count(pattern) == 1: \n",
    "        #put your code here\n",
    "        singlecutters.append(pattern)\n",
    "\n",
    "print('The number of single cutting enzymes is '+str(len(singlecutters))+' from '+str(enzcount))\n"
   ]
  },
  {
   "cell_type": "code",
   "execution_count": null,
   "metadata": {
    "collapsed": false
   },
   "outputs": [],
   "source": [
    "bs22003.test8(globals())"
   ]
  },
  {
   "cell_type": "markdown",
   "metadata": {},
   "source": [
    "## 2.2 Making decisions\n",
    "Sometimes we want to be able to do different things depending on the situation. For example, if we want to find enzymes that cut only once, or cut between certain positions.\n",
    "We can do this using an `if: ... else:` command\n",
    "\n",
    "```\n",
    "if something is true:\n",
    "    do this\n",
    "else:\n",
    "    do that\n",
    "```\n",
    "\n",
    "As an example, let's find the enzyme which cuts nearest the start of the mRNA in our list."
   ]
  },
  {
   "cell_type": "code",
   "execution_count": null,
   "metadata": {
    "collapsed": false
   },
   "outputs": [],
   "source": [
    "firstcut=len(cftr_mrna)\n",
    "firstcutter='None'\n",
    "# the first cutter will be before the end of the sequence\n",
    "fh.seek(0) # go back to the start of our enxyme list\n",
    "for line in fh.readlines():\n",
    "    parts=line.split('\\t')\n",
    "    name=parts[0]\n",
    "    pattern=parts[1]\n",
    "    if cftr_mrna.find(pattern) <firstcut and cftr_mrna.count(pattern)>0: # we'll need to fix this\n",
    "        firstcut=cftr_mrna.find(pattern)\n",
    "        firstcutter=name\n",
    "\n",
    "print('First cutting enzyme is '+firstcutter+' at '+str(firstcut))\n",
    "\n"
   ]
  },
  {
   "cell_type": "markdown",
   "metadata": {},
   "source": [
    "How the if-else construct works:\n",
    "1. The statement in the if statement is evaluated to see whether it is true or false\n",
    "2. If it is True, then the code in the `if` block is run\n",
    "3. If it is False then the code in the `else:` block (if there is one) is run\n",
    "\n",
    "![If-else construct](day1/ifelse.gif)\n",
    "\n",
    "How about finding the last cutting enzyme?\n",
    "Note that just like the `for .. in ..:`, the `if .. :` and `else:` also end with colons and the commands to carry out in each block are indented."
   ]
  },
  {
   "cell_type": "code",
   "execution_count": null,
   "metadata": {
    "collapsed": false
   },
   "outputs": [],
   "source": [
    "lastcut=0\n",
    "lastcutter='Not found'\n",
    "fh.seek(0)\n",
    "for line in fh.readlines():\n",
    "    parts=line.split('\\t')\n",
    "    name=parts[0]\n",
    "    pattern=parts[1]\n",
    "    if  # complete this block\n",
    "\n",
    "print('last cutting enzyme is '+lastcutter+' at '+str(lastcut))\n"
   ]
  },
  {
   "cell_type": "code",
   "execution_count": null,
   "metadata": {
    "collapsed": false
   },
   "outputs": [],
   "source": [
    "bs22003.test7(globals())"
   ]
  },
  {
   "cell_type": "markdown",
   "metadata": {},
   "source": [
    "> There can be many different sorts of test in an `if:` statement.\n",
    ">\n",
    "> |Statement or value | Evaluates as |\n",
    "> | --- | --- |\n",
    "> | 0 | False |\n",
    "> | 1 | True |\n",
    "> |'' (text of zero length) | False |\n",
    "> | 'Hello' (text with at least one letter) | True |\n",
    "> | `[]` (an empty list) | False|\n",
    "> | `[a]` (a list with elements) | True |\n",
    "> | `a in b` | True if the value `a` is found in the list `b`|\n",
    "> | `a not in b` | True if the value `a` is not in the list `b` |\n",
    "> | `a == b` | True if `a` is equal to `b`, false otherwise |\n",
    "> | `>` `<` etc. | True if the inequality is True |\n",
    "> | `a and b` | True only if both statement a AND statement b are true |\n",
    "> | `a or b` | True if either a OR b are true |\n",
    "> | `not a` | True if a is false |"
   ]
  },
  {
   "cell_type": "markdown",
   "metadata": {},
   "source": [
    "## Challenge 2.3 Which enzymes cut closest to our exon of choice but do not cut it?\n",
    "This is the information we need to take forward for primer design next week. You will need to:\n",
    "* find the cut site for an enzyme that cuts closest to the 5' end of the exon but does not cut inside the exon\n",
    "* find the cut site for an enzyme that cuts closes to the 3' end of the exopn but does not cut inside the exon\n",
    "\n",
    "**Hint:** in your loop, use exon.find(pattern)==0 to check that it doesn't cut inside the exon."
   ]
  },
  {
   "cell_type": "code",
   "execution_count": null,
   "metadata": {
    "collapsed": true
   },
   "outputs": [],
   "source": []
  },
  {
   "cell_type": "markdown",
   "metadata": {},
   "source": [
    "## CMA challenges\n",
    "The following examples can be adapted to answer the CMA questions."
   ]
  },
  {
   "cell_type": "markdown",
   "metadata": {
    "collapsed": true
   },
   "source": [
    "### Challenge: How many enzymes cut inside exon 12?\n",
    "**Solution:** Find the exon boundaries for exon 12. Loop through the list of enzymes and count the number that have dna[exon12start:exon12end].count(pattern) greater than zero.\n"
   ]
  },
  {
   "cell_type": "code",
   "execution_count": null,
   "metadata": {
    "collapsed": false
   },
   "outputs": [],
   "source": [
    "exonstart = 107777\n",
    "exonend = 107871\n",
    "ecount=0\n",
    "fh =open('enzymes.txt')\n",
    "for line in fh.readlines():\n",
    "    parts=line.split('\\t')\n",
    "    name=parts[0]\n",
    "    pattern=parts[1]\n",
    "    if cftr_gene[exonstart:exonend].find(pattern)>0:\n",
    "        ecount = ecount+1\n",
    "print( ecount)"
   ]
  },
  {
   "cell_type": "markdown",
   "metadata": {
    "collapsed": true
   },
   "source": [
    "### Challenge: How many times does HindIII cut between the start of intron 12 and the end of intron 18\n",
    "**Solution**: find the intron boundaries for intron 12 and intron 18. Read the enzyme list until you get to HindIII. see how many times the pattern is found in that region\n"
   ]
  },
  {
   "cell_type": "code",
   "execution_count": null,
   "metadata": {
    "collapsed": true
   },
   "outputs": [],
   "source": [
    "regionstart = 107871\n",
    "regionend = 130556\n",
    "fh =open('enzymes.txt')\n",
    "for line in fh.readlines():\n",
    "    parts=line.split('\\t')\n",
    "    name=parts[0]\n",
    "    pattern=parts[1]\n",
    "    if name=='HindIII':\n",
    "        print('HindIII cuts '+str(cftr_gene[regionstart:regionend].find(pattern)) +' times')"
   ]
  }
 ],
 "metadata": {
  "kernelspec": {
   "display_name": "Python 3",
   "language": "python",
   "name": "python3"
  },
  "language_info": {
   "codemirror_mode": {
    "name": "ipython",
    "version": 3
   },
   "file_extension": ".py",
   "mimetype": "text/x-python",
   "name": "python",
   "nbconvert_exporter": "python",
   "pygments_lexer": "ipython3",
   "version": "3.5.1"
  }
 },
 "nbformat": 4,
 "nbformat_minor": 0
}
